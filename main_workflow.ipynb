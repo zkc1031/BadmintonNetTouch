{
  "nbformat": 4,
  "nbformat_minor": 0,
  "metadata": {
    "colab": {
      "provenance": [],
      "authorship_tag": "ABX9TyPELWZGq+PGCP0H2lieIqxF",
      "include_colab_link": true
    },
    "kernelspec": {
      "name": "python3",
      "display_name": "Python 3"
    },
    "language_info": {
      "name": "python"
    }
  },
  "cells": [
    {
      "cell_type": "markdown",
      "metadata": {
        "id": "view-in-github",
        "colab_type": "text"
      },
      "source": [
        "<a href=\"https://colab.research.google.com/github/zkc1031/BadmintonNetTouch/blob/main/main_workflow.ipynb\" target=\"_parent\"><img src=\"https://colab.research.google.com/assets/colab-badge.svg\" alt=\"Open In Colab\"/></a>"
      ]
    },
    {
      "cell_type": "code",
      "execution_count": 2,
      "metadata": {
        "id": "h2fSR9IRiY85",
        "colab": {
          "base_uri": "https://localhost:8080/"
        },
        "outputId": "e81e2b79-db21-447e-f2c0-acc4702fcf16"
      },
      "outputs": [
        {
          "output_type": "stream",
          "name": "stdout",
          "text": [
            "Drive already mounted at /content/drive; to attempt to forcibly remount, call drive.mount(\"/content/drive\", force_remount=True).\n"
          ]
        }
      ],
      "source": [
        "#Googleドライブ連携\n",
        "from google.colab import drive\n",
        "drive.mount('/content/drive')"
      ]
    },
    {
      "cell_type": "code",
      "source": [
        "#必要ライブラリのインストール\n",
        "\n",
        "\n",
        "# 感嘆符(!)をつけると、ターミナルコマンドとして実行される\n",
        "!pip install \"numpy<2.0\" mediapipe==0.10.9 ultralytics torch\n",
        "# protobufとtensorflowは、Colabにプリインストールされている互換性のあるバージョンをそのまま使うのが安定します"
      ],
      "metadata": {
        "colab": {
          "base_uri": "https://localhost:8080/"
        },
        "id": "RAUDsnqslggm",
        "outputId": "bb9fb8b4-d6a1-4e6a-9245-51427e287395"
      },
      "execution_count": 3,
      "outputs": [
        {
          "output_type": "stream",
          "name": "stdout",
          "text": [
            "Requirement already satisfied: numpy<2.0 in /usr/local/lib/python3.11/dist-packages (1.26.4)\n",
            "Requirement already satisfied: mediapipe==0.10.9 in /usr/local/lib/python3.11/dist-packages (0.10.9)\n",
            "Requirement already satisfied: ultralytics in /usr/local/lib/python3.11/dist-packages (8.3.156)\n",
            "Requirement already satisfied: torch in /usr/local/lib/python3.11/dist-packages (2.6.0+cu124)\n",
            "Requirement already satisfied: absl-py in /usr/local/lib/python3.11/dist-packages (from mediapipe==0.10.9) (1.4.0)\n",
            "Requirement already satisfied: attrs>=19.1.0 in /usr/local/lib/python3.11/dist-packages (from mediapipe==0.10.9) (25.3.0)\n",
            "Requirement already satisfied: flatbuffers>=2.0 in /usr/local/lib/python3.11/dist-packages (from mediapipe==0.10.9) (25.2.10)\n",
            "Requirement already satisfied: matplotlib in /usr/local/lib/python3.11/dist-packages (from mediapipe==0.10.9) (3.10.0)\n",
            "Requirement already satisfied: opencv-contrib-python in /usr/local/lib/python3.11/dist-packages (from mediapipe==0.10.9) (4.11.0.86)\n",
            "Requirement already satisfied: protobuf<4,>=3.11 in /usr/local/lib/python3.11/dist-packages (from mediapipe==0.10.9) (3.20.3)\n",
            "Requirement already satisfied: sounddevice>=0.4.4 in /usr/local/lib/python3.11/dist-packages (from mediapipe==0.10.9) (0.5.2)\n",
            "Requirement already satisfied: opencv-python>=4.6.0 in /usr/local/lib/python3.11/dist-packages (from ultralytics) (4.11.0.86)\n",
            "Requirement already satisfied: pillow>=7.1.2 in /usr/local/lib/python3.11/dist-packages (from ultralytics) (11.2.1)\n",
            "Requirement already satisfied: pyyaml>=5.3.1 in /usr/local/lib/python3.11/dist-packages (from ultralytics) (6.0.2)\n",
            "Requirement already satisfied: requests>=2.23.0 in /usr/local/lib/python3.11/dist-packages (from ultralytics) (2.32.3)\n",
            "Requirement already satisfied: scipy>=1.4.1 in /usr/local/lib/python3.11/dist-packages (from ultralytics) (1.15.3)\n",
            "Requirement already satisfied: torchvision>=0.9.0 in /usr/local/lib/python3.11/dist-packages (from ultralytics) (0.21.0+cu124)\n",
            "Requirement already satisfied: tqdm>=4.64.0 in /usr/local/lib/python3.11/dist-packages (from ultralytics) (4.67.1)\n",
            "Requirement already satisfied: psutil in /usr/local/lib/python3.11/dist-packages (from ultralytics) (5.9.5)\n",
            "Requirement already satisfied: py-cpuinfo in /usr/local/lib/python3.11/dist-packages (from ultralytics) (9.0.0)\n",
            "Requirement already satisfied: pandas>=1.1.4 in /usr/local/lib/python3.11/dist-packages (from ultralytics) (2.2.2)\n",
            "Requirement already satisfied: ultralytics-thop>=2.0.0 in /usr/local/lib/python3.11/dist-packages (from ultralytics) (2.0.14)\n",
            "Requirement already satisfied: filelock in /usr/local/lib/python3.11/dist-packages (from torch) (3.18.0)\n",
            "Requirement already satisfied: typing-extensions>=4.10.0 in /usr/local/lib/python3.11/dist-packages (from torch) (4.14.0)\n",
            "Requirement already satisfied: networkx in /usr/local/lib/python3.11/dist-packages (from torch) (3.5)\n",
            "Requirement already satisfied: jinja2 in /usr/local/lib/python3.11/dist-packages (from torch) (3.1.6)\n",
            "Requirement already satisfied: fsspec in /usr/local/lib/python3.11/dist-packages (from torch) (2025.3.2)\n",
            "Requirement already satisfied: nvidia-cuda-nvrtc-cu12==12.4.127 in /usr/local/lib/python3.11/dist-packages (from torch) (12.4.127)\n",
            "Requirement already satisfied: nvidia-cuda-runtime-cu12==12.4.127 in /usr/local/lib/python3.11/dist-packages (from torch) (12.4.127)\n",
            "Requirement already satisfied: nvidia-cuda-cupti-cu12==12.4.127 in /usr/local/lib/python3.11/dist-packages (from torch) (12.4.127)\n",
            "Requirement already satisfied: nvidia-cudnn-cu12==9.1.0.70 in /usr/local/lib/python3.11/dist-packages (from torch) (9.1.0.70)\n",
            "Requirement already satisfied: nvidia-cublas-cu12==12.4.5.8 in /usr/local/lib/python3.11/dist-packages (from torch) (12.4.5.8)\n",
            "Requirement already satisfied: nvidia-cufft-cu12==11.2.1.3 in /usr/local/lib/python3.11/dist-packages (from torch) (11.2.1.3)\n",
            "Requirement already satisfied: nvidia-curand-cu12==10.3.5.147 in /usr/local/lib/python3.11/dist-packages (from torch) (10.3.5.147)\n",
            "Requirement already satisfied: nvidia-cusolver-cu12==11.6.1.9 in /usr/local/lib/python3.11/dist-packages (from torch) (11.6.1.9)\n",
            "Requirement already satisfied: nvidia-cusparse-cu12==12.3.1.170 in /usr/local/lib/python3.11/dist-packages (from torch) (12.3.1.170)\n",
            "Requirement already satisfied: nvidia-cusparselt-cu12==0.6.2 in /usr/local/lib/python3.11/dist-packages (from torch) (0.6.2)\n",
            "Requirement already satisfied: nvidia-nccl-cu12==2.21.5 in /usr/local/lib/python3.11/dist-packages (from torch) (2.21.5)\n",
            "Requirement already satisfied: nvidia-nvtx-cu12==12.4.127 in /usr/local/lib/python3.11/dist-packages (from torch) (12.4.127)\n",
            "Requirement already satisfied: nvidia-nvjitlink-cu12==12.4.127 in /usr/local/lib/python3.11/dist-packages (from torch) (12.4.127)\n",
            "Requirement already satisfied: triton==3.2.0 in /usr/local/lib/python3.11/dist-packages (from torch) (3.2.0)\n",
            "Requirement already satisfied: sympy==1.13.1 in /usr/local/lib/python3.11/dist-packages (from torch) (1.13.1)\n",
            "Requirement already satisfied: mpmath<1.4,>=1.1.0 in /usr/local/lib/python3.11/dist-packages (from sympy==1.13.1->torch) (1.3.0)\n",
            "Requirement already satisfied: contourpy>=1.0.1 in /usr/local/lib/python3.11/dist-packages (from matplotlib->mediapipe==0.10.9) (1.3.2)\n",
            "Requirement already satisfied: cycler>=0.10 in /usr/local/lib/python3.11/dist-packages (from matplotlib->mediapipe==0.10.9) (0.12.1)\n",
            "Requirement already satisfied: fonttools>=4.22.0 in /usr/local/lib/python3.11/dist-packages (from matplotlib->mediapipe==0.10.9) (4.58.2)\n",
            "Requirement already satisfied: kiwisolver>=1.3.1 in /usr/local/lib/python3.11/dist-packages (from matplotlib->mediapipe==0.10.9) (1.4.8)\n",
            "Requirement already satisfied: packaging>=20.0 in /usr/local/lib/python3.11/dist-packages (from matplotlib->mediapipe==0.10.9) (24.2)\n",
            "Requirement already satisfied: pyparsing>=2.3.1 in /usr/local/lib/python3.11/dist-packages (from matplotlib->mediapipe==0.10.9) (3.2.3)\n",
            "Requirement already satisfied: python-dateutil>=2.7 in /usr/local/lib/python3.11/dist-packages (from matplotlib->mediapipe==0.10.9) (2.9.0.post0)\n",
            "Requirement already satisfied: pytz>=2020.1 in /usr/local/lib/python3.11/dist-packages (from pandas>=1.1.4->ultralytics) (2025.2)\n",
            "Requirement already satisfied: tzdata>=2022.7 in /usr/local/lib/python3.11/dist-packages (from pandas>=1.1.4->ultralytics) (2025.2)\n",
            "Requirement already satisfied: charset-normalizer<4,>=2 in /usr/local/lib/python3.11/dist-packages (from requests>=2.23.0->ultralytics) (3.4.2)\n",
            "Requirement already satisfied: idna<4,>=2.5 in /usr/local/lib/python3.11/dist-packages (from requests>=2.23.0->ultralytics) (3.10)\n",
            "Requirement already satisfied: urllib3<3,>=1.21.1 in /usr/local/lib/python3.11/dist-packages (from requests>=2.23.0->ultralytics) (2.4.0)\n",
            "Requirement already satisfied: certifi>=2017.4.17 in /usr/local/lib/python3.11/dist-packages (from requests>=2.23.0->ultralytics) (2025.4.26)\n",
            "Requirement already satisfied: CFFI>=1.0 in /usr/local/lib/python3.11/dist-packages (from sounddevice>=0.4.4->mediapipe==0.10.9) (1.17.1)\n",
            "Requirement already satisfied: MarkupSafe>=2.0 in /usr/local/lib/python3.11/dist-packages (from jinja2->torch) (3.0.2)\n",
            "Requirement already satisfied: pycparser in /usr/local/lib/python3.11/dist-packages (from CFFI>=1.0->sounddevice>=0.4.4->mediapipe==0.10.9) (2.22)\n",
            "Requirement already satisfied: six>=1.5 in /usr/local/lib/python3.11/dist-packages (from python-dateutil>=2.7->matplotlib->mediapipe==0.10.9) (1.17.0)\n"
          ]
        }
      ]
    },
    {
      "cell_type": "code",
      "source": [
        "#フレームラベル付けシステム\n",
        "\n",
        "# ライブラリのインポート\n",
        "import os\n",
        "import shutil\n",
        "import random\n",
        "import ipywidgets as widgets\n",
        "from IPython.display import display, clear_output\n",
        "from PIL import Image\n",
        "\n",
        "# --- 設定 ---\n",
        "# ラベル付け候補の画像が入っているフォルダ\n",
        "SOURCE_DIR = '/content/drive/MyDrive/Badminton_Research/datasets/frames_to_label/'\n",
        "\n",
        "# 分類後の画像を保存する親フォルダ\n",
        "DEST_DIR_BASE = '/content/drive/MyDrive/Badminton_Research/datasets/labeled_data/'\n",
        "\n",
        "# クラス名と、対応するフォルダ名\n",
        "CLASSES = ['net_touch', 'over_net', 'normal']\n",
        "\n",
        "# --- 関数の定義 ---\n",
        "\n",
        "# 各クラスの保存先フォルダを作成する\n",
        "for class_name in CLASSES:\n",
        "    os.makedirs(os.path.join(DEST_DIR_BASE, class_name), exist_ok=True)\n",
        "# スキップした画像用のフォルダも作成\n",
        "os.makedirs(os.path.join(DEST_DIR_BASE, 'skipped'), exist_ok=True)\n",
        "\n",
        "# SOURCE_DIRが存在するかチェック\n",
        "if not os.path.exists(SOURCE_DIR):\n",
        "    print(f\"Error: Source directory not found at {SOURCE_DIR}\")\n",
        "    print(\"Please check if the path is correct and the directory exists in your Google Drive.\")\n",
        "else:\n",
        "    # ファイルリストを取得し、シャッフルする\n",
        "    image_files = [f for f in os.listdir(SOURCE_DIR) if f.endswith(('.png', '.jpg', '.jpeg'))]\n",
        "    random.shuffle(image_files)\n",
        "\n",
        "    # 現在のインデックスを管理する\n",
        "    current_index = 0\n",
        "\n",
        "    # 画像表示用のウィジェット\n",
        "    image_widget = widgets.Image(format='png', width=800)\n",
        "\n",
        "    # ボタンウィジェットの作成\n",
        "    buttons = []\n",
        "    for label in CLASSES + ['skip']:\n",
        "        button = widgets.Button(description=label)\n",
        "        buttons.append(button)\n",
        "\n",
        "    # ボタンがクリックされたときの処理を定義\n",
        "    def on_button_clicked(b):\n",
        "        global current_index\n",
        "\n",
        "        # 古い画像とボタンをクリア\n",
        "        clear_output(wait=True)\n",
        "\n",
        "        # 選択されたラベルに基づいてファイルを移動\n",
        "        label = b.description\n",
        "        if current_index < len(image_files):\n",
        "            img_name = image_files[current_index]\n",
        "            source_path = os.path.join(SOURCE_DIR, img_name)\n",
        "            dest_path = os.path.join(DEST_DIR_BASE, label, img_name)\n",
        "\n",
        "            try:\n",
        "                shutil.move(source_path, dest_path)\n",
        "                print(f\"Moved '{img_name}' to '{label}' folder.\")\n",
        "            except Exception as e:\n",
        "                print(f\"Error moving file: {e}\")\n",
        "\n",
        "        # 次の画像へ\n",
        "        current_index += 1\n",
        "        show_next_image()\n",
        "\n",
        "    # 各ボタンにクリックイベントを登録\n",
        "    for button in buttons:\n",
        "        button.on_click(on_button_clicked)\n",
        "\n",
        "    # 次の画像を表示する関数\n",
        "    def show_next_image():\n",
        "        global current_index\n",
        "        if current_index < len(image_files):\n",
        "            img_name = image_files[current_index]\n",
        "            img_path = os.path.join(SOURCE_DIR, img_name)\n",
        "\n",
        "            # 画像を読み込んで表示\n",
        "            with open(img_path, 'rb') as f:\n",
        "                image_widget.value = f.read()\n",
        "\n",
        "            # 進捗を表示\n",
        "            progress_label = widgets.Label(f\"Image {current_index + 1} / {len(image_files)}: {img_name}\")\n",
        "\n",
        "            # 画像とボタンをまとめて表示\n",
        "            display(progress_label, image_widget, widgets.HBox(buttons))\n",
        "        else:\n",
        "            print(\"全ての画像の分類が完了しました！お疲れ様でした。\")\n",
        "\n",
        "    # 最初の画像を表示して開始\n",
        "    if image_files:\n",
        "        show_next_image()\n",
        "    else:\n",
        "        print(\"Source directory is empty or does not contain supported image files (.png, .jpg, .jpeg).\")"
      ],
      "metadata": {
        "colab": {
          "base_uri": "https://localhost:8080/"
        },
        "id": "swjfSAHjl1bq",
        "outputId": "9fd99983-3e39-4cbf-ff45-2dd394114146"
      },
      "execution_count": 4,
      "outputs": [
        {
          "output_type": "stream",
          "name": "stdout",
          "text": [
            "Error: Source directory not found at /content/drive/MyDrive/Badminton_Research/datasets/frames_to_label/\n",
            "Please check if the path is correct and the directory exists in your Google Drive.\n"
          ]
        }
      ]
    },
    {
      "cell_type": "code",
      "source": [
        "# 最初の画像を表示してラベリングを開始\n",
        "show_next_image()"
      ],
      "metadata": {
        "id": "On03ODi3ooOx"
      },
      "execution_count": null,
      "outputs": []
    }
  ]
}